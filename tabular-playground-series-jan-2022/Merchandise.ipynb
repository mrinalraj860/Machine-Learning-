{
 "cells": [
  {
   "cell_type": "code",
   "execution_count": 1,
   "id": "7adb3375-a76e-49f9-bb3e-fae15c74e85a",
   "metadata": {},
   "outputs": [],
   "source": [
    "import numpy as np\n",
    "from sklearn.model_selection import train_test_split\n",
    "from sklearn import linear_model\n",
    "from matplotlib import pyplot as plt\n",
    "import pandas as pd\n",
    "from sklearn.metrics import accuracy_score\n",
    "from sklearn.preprocessing import LabelEncoder\n",
    "import csv"
   ]
  },
  {
   "cell_type": "code",
   "execution_count": 2,
   "id": "ea0aa0ed-3e44-4323-b9c0-ff2cfcfd2855",
   "metadata": {},
   "outputs": [],
   "source": [
    "data= pd.read_csv('train.csv')"
   ]
  },
  {
   "cell_type": "code",
   "execution_count": 7,
   "id": "1ff16bd6-9cc8-43bc-889d-dd225479abcd",
   "metadata": {},
   "outputs": [],
   "source": [
    "mapping_data1={\n",
    "'KaggleRama':1,\n",
    "   'KaggleMart':0\n",
    "}\n",
    "mapping_data2={\n",
    "'Kaggle Mug':2,\n",
    "   'Kaggle Hat':1,\n",
    "    'Kaggle Sticker':0\n",
    "}\n",
    "\n",
    "\n",
    "#data['store'].map(mapping_data1)\n",
    "#data['product'].map(mapping_data2)"
   ]
  },
  {
   "cell_type": "code",
   "execution_count": 8,
   "id": "40cbd6a5-b7a5-406c-aa86-1d6e0c9dd35b",
   "metadata": {},
   "outputs": [],
   "source": [
    "data_label_en=data[['store',\n",
    "               'product']].values\n",
    "Le=LabelEncoder()\n",
    "for i in range(len(data_label_en[0])):\n",
    "    data_label_en[:,i]=Le.fit_transform(data_label_en[:,i])"
   ]
  },
  {
   "cell_type": "code",
   "execution_count": 9,
   "id": "9b5c9cbe-bdd5-4105-b443-19b9413f9753",
   "metadata": {},
   "outputs": [],
   "source": [
    "x=np.array(data_label_en)"
   ]
  },
  {
   "cell_type": "code",
   "execution_count": 10,
   "id": "9174dcdf-7c4a-45d4-afa1-7e39571987b1",
   "metadata": {},
   "outputs": [
    {
     "name": "stdout",
     "output_type": "stream",
     "text": [
      "[[0 1]\n",
      " [0 0]\n",
      " [0 2]\n",
      " ...\n",
      " [1 1]\n",
      " [1 0]\n",
      " [1 2]]\n"
     ]
    }
   ],
   "source": [
    "print(x)"
   ]
  },
  {
   "cell_type": "code",
   "execution_count": 11,
   "id": "4655f453-0f5e-4a49-8919-8824bbb2e03e",
   "metadata": {},
   "outputs": [],
   "source": [
    "y=np.array(data['num_sold'])"
   ]
  },
  {
   "cell_type": "code",
   "execution_count": 12,
   "id": "4bde9af0-0277-4cbb-b036-978b84cbca5e",
   "metadata": {},
   "outputs": [
    {
     "data": {
      "text/plain": [
       "LinearRegression()"
      ]
     },
     "execution_count": 12,
     "metadata": {},
     "output_type": "execute_result"
    }
   ],
   "source": [
    "l_reg=linear_model.LinearRegression()\n",
    "l_reg.fit(x,y)"
   ]
  },
  {
   "cell_type": "code",
   "execution_count": 13,
   "id": "556d5a14-4d34-42b3-902f-208b8524c946",
   "metadata": {},
   "outputs": [
    {
     "data": {
      "text/plain": [
       "[<matplotlib.lines.Line2D at 0x7f7c6d3bcd30>,\n",
       " <matplotlib.lines.Line2D at 0x7f7c6d3bccd0>]"
      ]
     },
     "execution_count": 13,
     "metadata": {},
     "output_type": "execute_result"
    },
    {
     "data": {
      "image/png": "[encoded data removed]",
      "text/plain": [
       "<Figure size 432x288 with 1 Axes>"
      ]
     },
     "metadata": {
      "needs_background": "light"
     },
     "output_type": "display_data"
    }
   ],
   "source": [
    "plt.plot(x,y)"
   ]
  },
  {
   "cell_type": "code",
   "execution_count": 15,
   "id": "ba453a97-c77f-4bea-93b7-7ff357e184c6",
   "metadata": {},
   "outputs": [],
   "source": [
    "data_test= pd.read_csv('test.csv')"
   ]
  },
  {
   "cell_type": "code",
   "execution_count": 16,
   "id": "0c8e2534-4f82-4403-9654-4f8774ccd80e",
   "metadata": {},
   "outputs": [],
   "source": [
    "data_label_en=data_test[['store',\n",
    "               'product']].values\n",
    "Le=LabelEncoder()\n",
    "for i in range(len(data_label_en[0])):\n",
    "    data_label_en[:,i]=Le.fit_transform(data_label_en[:,i])"
   ]
  },
  {
   "cell_type": "code",
   "execution_count": 17,
   "id": "53ceba5d-248a-4145-9829-554d4682eb3d",
   "metadata": {},
   "outputs": [
    {
     "name": "stdout",
     "output_type": "stream",
     "text": [
      "[[0 1]\n",
      " [0 0]\n",
      " [0 2]\n",
      " ...\n",
      " [1 1]\n",
      " [1 0]\n",
      " [1 2]]\n"
     ]
    }
   ],
   "source": [
    "x_test=np.array(data_label_en)\n",
    "print(x_test)"
   ]
  },
  {
   "cell_type": "code",
   "execution_count": 19,
   "id": "1f8a42fb-5911-4de3-be7f-182a2c826d9e",
   "metadata": {},
   "outputs": [
    {
     "name": "stdout",
     "output_type": "stream",
     "text": [
      "[100 100 100 ... 100 100 100]\n"
     ]
    }
   ],
   "source": [
    "data_result=pd.read_csv('sample_submission.csv')\n",
    "y=np.array(data_result['num_sold'])\n",
    "print(y)"
   ]
  },
  {
   "cell_type": "code",
   "execution_count": 20,
   "id": "cdd5ff13-86c3-48ae-a876-620df9f72245",
   "metadata": {},
   "outputs": [],
   "source": [
    "pred=l_reg.predict(x_test)"
   ]
  },
  {
   "cell_type": "code",
   "execution_count": 21,
   "id": "7cd7812c-4094-4b13-9ffe-df83f7f10d15",
   "metadata": {},
   "outputs": [
    {
     "name": "stdout",
     "output_type": "stream",
     "text": [
      "[282.55897787 507.28285421  57.83510153 ... 492.50817553 717.23205187\n",
      " 267.78429919]\n"
     ]
    }
   ],
   "source": [
    "print(pred)"
   ]
  },
  {
   "cell_type": "code",
   "execution_count": 22,
   "id": "74820e82-9da8-4285-ab9b-20615d472ab3",
   "metadata": {},
   "outputs": [],
   "source": [
    "y_id=np.array(data_result['row_id'])"
   ]
  },
  {
   "cell_type": "code",
   "execution_count": 23,
   "id": "2793b035-8ad1-416e-938d-921d0e7066c7",
   "metadata": {},
   "outputs": [],
   "source": [
    "final_data={'row_id':y_id,'num_sold':pred}\n",
    "submis=pd.DataFrame(data=final_data)"
   ]
  },
  {
   "cell_type": "code",
   "execution_count": 24,
   "id": "1e716448-4199-454e-81ae-d41b0ae14bc2",
   "metadata": {},
   "outputs": [],
   "source": [
    "submis.to_csv('submission.csv' , index=False)"
   ]
  },
  {
   "cell_type": "code",
   "execution_count": null,
   "id": "38d4f909-20bf-4725-ac9b-659987e6b5c9",
   "metadata": {},
   "outputs": [],
   "source": []
  }
 ],
 "metadata": {
  "kernelspec": {
   "display_name": "Python 3 (ipykernel)",
   "language": "python",
   "name": "python3"
  },
  "language_info": {
   "codemirror_mode": {
    "name": "ipython",
    "version": 3
   },
   "file_extension": ".py",
   "mimetype": "text/x-python",
   "name": "python",
   "nbconvert_exporter": "python",
   "pygments_lexer": "ipython3",
   "version": "3.9.2"
  }
 },
 "nbformat": 4,
 "nbformat_minor": 5
}
